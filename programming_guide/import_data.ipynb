{
  "nbformat": 4,
  "nbformat_minor": 0,
  "metadata": {
    "colab": {
      "name": "Hello, Colaboratory",
      "version": "0.3.2",
      "views": {},
      "default_view": {},
      "provenance": [],
      "collapsed_sections": []
    },
    "kernelspec": {
      "display_name": "Python 3",
      "name": "python3"
    }
  },
  "cells": [
    {
      "metadata": {
        "id": "tyOP1vLmcnTw",
        "colab_type": "code",
        "colab": {
          "autoexec": {
            "startup": false,
            "wait_interval": 0
          },
          "base_uri": "https://localhost:8080/",
          "height": 17
        },
        "outputId": "39671cdf-cb37-4c2d-d46e-23986d8b0bdc",
        "executionInfo": {
          "status": "ok",
          "timestamp": 1526449347764,
          "user_tz": -540,
          "elapsed": 707,
          "user": {
            "displayName": "",
            "photoUrl": "",
            "userId": ""
          }
        }
      },
      "cell_type": "code",
      "source": [
        "import tensorflow as tf"
      ],
      "execution_count": 9,
      "outputs": []
    },
    {
      "metadata": {
        "id": "GkF__BRDcwNd",
        "colab_type": "code",
        "colab": {
          "autoexec": {
            "startup": false,
            "wait_interval": 0
          },
          "base_uri": "https://localhost:8080/",
          "height": 34
        },
        "outputId": "9bf83c97-977f-4cdd-c98b-db3bcca6211b",
        "executionInfo": {
          "status": "ok",
          "timestamp": 1526449349289,
          "user_tz": -540,
          "elapsed": 915,
          "user": {
            "displayName": "",
            "photoUrl": "",
            "userId": ""
          }
        }
      },
      "cell_type": "code",
      "source": [
        "dataset1 = tf.data.Dataset.from_tensor_slices(tf.random_uniform([4, 10]))\n",
        "\n",
        "dataset2 = tf.data.Dataset.from_tensor_slices((tf.random_uniform([4]),\n",
        "                                             tf.random_uniform([4, 100], maxval=100, dtype=tf.int32)))\n",
        "\n",
        "dataset3 = tf.data.Dataset.zip((dataset1, dataset2))\n",
        "print(dataset3)"
      ],
      "execution_count": 10,
      "outputs": [
        {
          "output_type": "stream",
          "text": [
            "<ZipDataset shapes: ((10,), ((), (100,))), types: (tf.float32, (tf.float32, tf.int32))>\n"
          ],
          "name": "stdout"
        }
      ]
    },
    {
      "metadata": {
        "id": "qm34JhEld8RV",
        "colab_type": "code",
        "colab": {
          "autoexec": {
            "startup": false,
            "wait_interval": 0
          },
          "base_uri": "https://localhost:8080/",
          "height": 51
        },
        "outputId": "3e81a288-18c2-4dc5-bfd7-3a1e34699f44",
        "executionInfo": {
          "status": "ok",
          "timestamp": 1526449350811,
          "user_tz": -540,
          "elapsed": 992,
          "user": {
            "displayName": "",
            "photoUrl": "",
            "userId": ""
          }
        }
      },
      "cell_type": "code",
      "source": [
        "dataset = tf.data.Dataset.from_tensor_slices(\n",
        "    {'a': tf.random_uniform([4]),\n",
        "     'b': tf.random_uniform([4, 10], maxval=100, dtype=tf.int32)})\n",
        "print(dataset.output_types)\n",
        "print(dataset.output_shapes)"
      ],
      "execution_count": 11,
      "outputs": [
        {
          "output_type": "stream",
          "text": [
            "{'a': tf.float32, 'b': tf.int32}\n",
            "{'a': TensorShape([]), 'b': TensorShape([Dimension(10)])}\n"
          ],
          "name": "stdout"
        }
      ]
    },
    {
      "metadata": {
        "id": "dNwyjT-0eT5L",
        "colab_type": "code",
        "colab": {
          "autoexec": {
            "startup": false,
            "wait_interval": 0
          },
          "base_uri": "https://localhost:8080/",
          "height": 17
        },
        "outputId": "8b3a5085-c7a0-42f8-a20a-c8d9d80a2c85",
        "executionInfo": {
          "status": "ok",
          "timestamp": 1526449461907,
          "user_tz": -540,
          "elapsed": 991,
          "user": {
            "displayName": "",
            "photoUrl": "",
            "userId": ""
          }
        }
      },
      "cell_type": "code",
      "source": [
        "dataset = tf.data.Dataset.range(1000)\n",
        "iterator = dataset.make_one_shot_iterator()\n",
        "next_element = iterator.get_next()\n",
        "\n",
        "sess = tf.Session()\n",
        "for i in range(1000):\n",
        "  value = sess.run(next_element)\n",
        "  assert i == value"
      ],
      "execution_count": 13,
      "outputs": []
    },
    {
      "metadata": {
        "id": "DUarvOTN0CQc",
        "colab_type": "code",
        "colab": {
          "autoexec": {
            "startup": false,
            "wait_interval": 0
          },
          "base_uri": "https://localhost:8080/",
          "height": 17
        },
        "outputId": "5f8f2b48-d967-404a-cda8-1cca49c19ace",
        "executionInfo": {
          "status": "ok",
          "timestamp": 1526449635599,
          "user_tz": -540,
          "elapsed": 1055,
          "user": {
            "displayName": "",
            "photoUrl": "",
            "userId": ""
          }
        }
      },
      "cell_type": "code",
      "source": [
        "max_value = tf.placeholder(tf.int64, shape=[])\n",
        "dataset = tf.data.Dataset.range(max_value)\n",
        "iterator = dataset.make_initializable_iterator()\n",
        "next_element = iterator.get_next()\n",
        "\n",
        "sess.run(iterator.initializer, feed_dict={max_value: 10})\n",
        "for i in range(10):\n",
        "  value = sess.run(next_element)\n",
        "  assert i == value\n",
        "\n",
        "sess.run(iterator.initializer, feed_dict={max_value: 100})\n",
        "for i in range(100):\n",
        "  value = sess.run(next_element)\n",
        "  assert i == value"
      ],
      "execution_count": 14,
      "outputs": []
    },
    {
      "metadata": {
        "id": "sDl9aW7wfWQ4",
        "colab_type": "code",
        "colab": {
          "autoexec": {
            "startup": false,
            "wait_interval": 0
          },
          "base_uri": "https://localhost:8080/",
          "height": 17
        },
        "outputId": "3cc25fe1-6ad2-4cdc-882c-ac9fccf35c75",
        "executionInfo": {
          "status": "ok",
          "timestamp": 1526451459899,
          "user_tz": -540,
          "elapsed": 1819,
          "user": {
            "displayName": "",
            "photoUrl": "",
            "userId": ""
          }
        }
      },
      "cell_type": "code",
      "source": [
        "training_dataset = tf.data.Dataset.range(100).map(\n",
        "  lambda x: x + tf.random_uniform([], -10, 10, tf.int64))\n",
        "validation_dataset = tf.data.Dataset.range(50)\n",
        "\n",
        "iterator = tf.data.Iterator.from_structure(training_dataset.output_types,\n",
        "                                           training_dataset.output_shapes)\n",
        "next_element = iterator.get_next()\n",
        "\n",
        "training_init_op = iterator.make_initializer(training_dataset)\n",
        "validation_init_op = iterator.make_initializer(validation_dataset)\n",
        "\n",
        "for _ in range(20):\n",
        "  sess.run(training_init_op)\n",
        "  for _  in range(100):\n",
        "    sess.run(next_element)\n",
        "   \n",
        "  sess.run(validation_init_op)\n",
        "  for _ in range(50):\n",
        "    sess.run(next_element)"
      ],
      "execution_count": 20,
      "outputs": []
    },
    {
      "metadata": {
        "id": "CxghsaGYgHRw",
        "colab_type": "code",
        "colab": {
          "autoexec": {
            "startup": false,
            "wait_interval": 0
          },
          "base_uri": "https://localhost:8080/",
          "height": 17
        },
        "outputId": "94402922-cae0-4a2b-a50b-86a8f5031e61",
        "executionInfo": {
          "status": "ok",
          "timestamp": 1526452047433,
          "user_tz": -540,
          "elapsed": 84614,
          "user": {
            "displayName": "",
            "photoUrl": "",
            "userId": ""
          }
        }
      },
      "cell_type": "code",
      "source": [
        "sess = tf.Session()\n",
        "training_dataset = tf.data.Dataset.range(100).map(\n",
        "  lambda x: x + tf.random_uniform([], -10, 10, tf.int64)).repeat()\n",
        "validation_dataset = tf.data.Dataset.range(50)\n",
        "\n",
        "handle = tf.placeholder(tf.string, shape=[])\n",
        "iterator = tf.data.Iterator.from_string_handle(\n",
        "  handle, training_dataset.output_types, training_dataset.output_shapes)\n",
        "next_element = iterator.get_next()\n",
        "\n",
        "training_iterator = training_dataset.make_one_shot_iterator()\n",
        "validation_iterator = validation_dataset.make_initializable_iterator()\n",
        "\n",
        "training_handle = sess.run(training_iterator.string_handle())\n",
        "validation_handle = sess.run(validation_iterator.string_handle())\n",
        "\n",
        "i = 0\n",
        "while i < 1000:\n",
        "  for _ in range(200):\n",
        "    sess.run(next_element, feed_dict={handle: training_handle})\n",
        "  \n",
        "  sess.run(validation_iterator.initializer)\n",
        "  for _ in range(50):\n",
        "    sess.run(next_element, feed_dict={handle: validation_handle})\n",
        "  i += 1"
      ],
      "execution_count": 28,
      "outputs": []
    },
    {
      "metadata": {
        "id": "tJsVReBxp4IL",
        "colab_type": "code",
        "colab": {
          "autoexec": {
            "startup": false,
            "wait_interval": 0
          },
          "base_uri": "https://localhost:8080/",
          "height": 119
        },
        "outputId": "c6a9e13a-4394-4d31-ce94-d6c15861d093",
        "executionInfo": {
          "status": "ok",
          "timestamp": 1526453536858,
          "user_tz": -540,
          "elapsed": 1312,
          "user": {
            "displayName": "",
            "photoUrl": "",
            "userId": ""
          }
        }
      },
      "cell_type": "code",
      "source": [
        "dataset = tf.data.Dataset.range(5) #.repeat()\n",
        "iterator = dataset.make_initializable_iterator()\n",
        "next_element = iterator.get_next()\n",
        "\n",
        "result = tf.add(next_element, next_element)\n",
        "\n",
        "sess.run(iterator.initializer)\n",
        "print(sess.run(result))\n",
        "print(sess.run(result))\n",
        "print(sess.run(result))\n",
        "print(sess.run(result))\n",
        "print(sess.run(result))\n",
        "print(sess.run(result))\n",
        "try:\n",
        "  sess.run(result)\n",
        "except tf.errors.OutOfRangeError:\n",
        "  print('End')"
      ],
      "execution_count": 34,
      "outputs": [
        {
          "output_type": "stream",
          "text": [
            "0\n",
            "2\n",
            "4\n",
            "6\n",
            "8\n",
            "0\n"
          ],
          "name": "stdout"
        }
      ]
    },
    {
      "metadata": {
        "id": "28L8g0E0uOzy",
        "colab_type": "code",
        "colab": {
          "autoexec": {
            "startup": false,
            "wait_interval": 0
          },
          "base_uri": "https://localhost:8080/",
          "height": 17
        },
        "outputId": "cee31e3a-0983-43ea-8246-76d19ea359f1",
        "executionInfo": {
          "status": "ok",
          "timestamp": 1526453803056,
          "user_tz": -540,
          "elapsed": 1166,
          "user": {
            "displayName": "",
            "photoUrl": "",
            "userId": ""
          }
        }
      },
      "cell_type": "code",
      "source": [
        "dataset1 = tf.data.Dataset.from_tensor_slices(tf.random_uniform([4, 10]))\n",
        "dataset2 = tf.data.Dataset.from_tensor_slices((tf.random_uniform([4]), tf.random_uniform([4, 100])))\n",
        "dataset3 = tf.data.Dataset.zip((dataset1, dataset2))\n",
        "\n",
        "iterator = dataset3.make_initializable_iterator()\n",
        "\n",
        "sess.run(iterator.initializer)\n",
        "next1, (next2, next3) = iterator.get_next()"
      ],
      "execution_count": 39,
      "outputs": []
    },
    {
      "metadata": {
        "id": "5MTMWFIWwv4T",
        "colab_type": "code",
        "colab": {
          "autoexec": {
            "startup": false,
            "wait_interval": 0
          },
          "base_uri": "https://localhost:8080/",
          "height": 17
        },
        "outputId": "b0731539-5c02-4699-c501-218353be9569",
        "executionInfo": {
          "status": "ok",
          "timestamp": 1526454664155,
          "user_tz": -540,
          "elapsed": 815,
          "user": {
            "displayName": "",
            "photoUrl": "",
            "userId": ""
          }
        }
      },
      "cell_type": "code",
      "source": [
        "import numpy as np\n",
        "\n",
        "# with np.load('/var/data/training_data.npy') as data:\n",
        "#   features = data['features']\n",
        "#   labels = data['labels']\n",
        "\n",
        "features = np.random.uniform(-5, 5, (10, 4))\n",
        "labels = np.random.uniform(-5, 5, (10,))\n",
        "\n",
        "assert features.shape[0] == labels.shape[0]\n",
        "\n",
        "# BAD FOR BUFFER MEMORY\n",
        "# dataset = tf.data.Dataset.from_tensor_slices((features, labels))\n",
        "\n",
        "# Instead use tf.placeholder\n",
        "features_placeholder = tf.placeholder(features.dtype, features.shape)\n",
        "labels_placeholder = tf.placeholder(labels.dtype, labels.shape)\n",
        "\n",
        "dataset = tf.data.Dataset.from_tensor_slices((features_placeholder, labels_placeholder))\n",
        "iterator = dataset.make_initializable_iterator()\n",
        "\n",
        "sess = tf.Session()\n",
        "sess.run(iterator.initializer, feed_dict={features_placeholder: features,\n",
        "                                          labels_placeholder: labels})"
      ],
      "execution_count": 48,
      "outputs": []
    },
    {
      "metadata": {
        "id": "YcozXmgnz-bB",
        "colab_type": "code",
        "colab": {
          "autoexec": {
            "startup": false,
            "wait_interval": 0
          }
        }
      },
      "cell_type": "code",
      "source": [
        "# filenames = ['/var/data/file1.tfrecord', '/var/data/file2.tfrecord']\n",
        "\n",
        "filenames = tf.placeholder(tf.string, shape=[None])\n",
        "dataset = tf.data.TFRecordDataset(filenames)\n",
        "dataset = dataset.map(lambda x: x) # process record to tensors\n",
        "dataset = dataset.repeat()\n",
        "dataset = dataset.batch(32)\n",
        "iterator = dataset.make_initializable_iterator()\n",
        "\n",
        "training_filenames = ['/var/data/file1.tfrecord', '/var/data/file2.tfrecord']\n",
        "sess.run(iterator.initializer, feed_dict={filenames: training_filenames})\n",
        "\n",
        "validation_filenames = ['/var/data/validation.tfrecord']\n",
        "sess.run(iterator.initializer, feed_dict={filenames: validation_filenames})"
      ],
      "execution_count": 0,
      "outputs": []
    },
    {
      "metadata": {
        "id": "VGRbqq341RND",
        "colab_type": "code",
        "colab": {
          "autoexec": {
            "startup": false,
            "wait_interval": 0
          }
        }
      },
      "cell_type": "code",
      "source": [
        "filenames = ['/var/data/file1.txt', '/var/data/file2.txt']\n",
        "dataset = tf.data.Dataset.from_tensor_slices(filenames)\n",
        "\n",
        "dataset = dataset.flat_map(\n",
        "  lambda filename: (\n",
        "    tf.data.TextLineDataset(filename)\n",
        "    .skip(1)\n",
        "    .filter(lambda line: tf.not_equal(tf.substr(line, 0, 1), '#'))))"
      ],
      "execution_count": 0,
      "outputs": []
    },
    {
      "metadata": {
        "id": "0pzaGkBNHGKa",
        "colab_type": "code",
        "colab": {
          "autoexec": {
            "startup": false,
            "wait_interval": 0
          }
        }
      },
      "cell_type": "code",
      "source": [
        "def _parse_function(example_proto):\n",
        "  features = {'image': tf.FixedLenFeature((), tf.string, default_value=''),\n",
        "              'label': tf.FixedLenFeature((), tf.int32, default_value=0)}\n",
        "  parsed_features = tf.parse_single_example(example_proto, features)\n",
        "  return parsed_features['image'], parsed_features['label']\n",
        "\n",
        "filenames = ['/var/data/file1.tfrecord', '/var/data/file2.tfrecord']\n",
        "dataset = tf.data.TFRecordDataset(filenames)\n",
        "dataset = dataset.map(_parse_function)"
      ],
      "execution_count": 0,
      "outputs": []
    },
    {
      "metadata": {
        "id": "6E_pHV67IaKO",
        "colab_type": "code",
        "colab": {
          "autoexec": {
            "startup": false,
            "wait_interval": 0
          }
        }
      },
      "cell_type": "code",
      "source": [
        "def _parse_function(filename, label):\n",
        "  image_string = tf.read_file(filename)\n",
        "  image_decoded = tf.image.decode_image(image_string)\n",
        "  image_resized = tf.image.resize_images(image_decoded, [28, 28])\n",
        "  return image_resized, label\n",
        "\n",
        "filenames = tf.constant(['/var/data/image1.jpg', '/var/data/image2.jpg'])\n",
        "dataset = tf.data.Dataset.from_tensor_slices((filenames, labels))\n",
        "dataset = dataset.map(_parse_function)"
      ],
      "execution_count": 0,
      "outputs": []
    },
    {
      "metadata": {
        "id": "RwLEp81lJAxJ",
        "colab_type": "code",
        "colab": {
          "autoexec": {
            "startup": false,
            "wait_interval": 0
          }
        }
      },
      "cell_type": "code",
      "source": [
        "import cv2\n",
        "\n",
        "def _read_py_function(filename, label):\n",
        "  image_decoded = cv2.imread(filename.decode(), cv2.IMREAD_GRAYSCALE)\n",
        "  return image_decoded, label\n",
        "\n",
        "def _resize_function(image_decoded, label):\n",
        "  image_decoded.set_shape([None, None, None])\n",
        "  image_resized = tf.image.resize_images(image_decoded, [28, 28])\n",
        "  return image_resized, label\n",
        "\n",
        "filenames = ['/var/data/image1.jpg', '/var/data/image2.jpg']\n",
        "labels = [0, 20]\n",
        "\n",
        "dataset = tf.data.Dataset.from_tensor_slices((filenames, labels))\n",
        "dataset = dataset.map(\n",
        "  lambda filename, label: tuple(tf.py_func(\n",
        "    _read_py_function, [filename, label], [tf.uint8, label.dtype])))\n",
        "dataset = dataset.map(_resize_function)"
      ],
      "execution_count": 0,
      "outputs": []
    }
  ]
}